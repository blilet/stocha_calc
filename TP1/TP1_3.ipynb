{
 "cells": [
  {
   "cell_type": "markdown",
   "id": "b0745c79",
   "metadata": {},
   "source": [
    "# Intégrale stochastique\n",
    "\n",
    "$\\textbf{Élève:}$ BLILET Hatim\n",
    "\n",
    "$\\textbf{Groupe de PC:}$ GR3"
   ]
  },
  {
   "cell_type": "code",
   "execution_count": 1,
   "id": "80f80ccf",
   "metadata": {},
   "outputs": [],
   "source": [
    "import numpy as np\n",
    "import matplotlib.pyplot as plt"
   ]
  },
  {
   "cell_type": "markdown",
   "id": "605d6f50",
   "metadata": {},
   "source": [
    "## Question 1"
   ]
  },
  {
   "cell_type": "markdown",
   "id": "c2de471e",
   "metadata": {},
   "source": [
    "$(a)$ Écrivons, par formule d'Itô-Doeblin differentielle appliquée sur la fonction $x\\mapsto x^2$:\n",
    "$$\\text{d}(W_s^2)= 2W_s \\text{d}W_s + \\text{d}t$$\n",
    "Soit, sous forme intégrale:\n",
    "$$\\int_0^T W_s \\text{d}W_s = \\dfrac{1}{2}\\bigg(\\int_{0}^T \\text{d}(W_s)^2 - \\int_{0}^T \\text{d}t \\bigg)$$\n",
    "Ainsi, on s'attend à ce que:\n",
    "$$\\int_0^T W_s \\text{d}W_s = \\dfrac{W_T^2}{2}- \\dfrac{T}{2}$$"
   ]
  },
  {
   "cell_type": "code",
   "execution_count": 2,
   "id": "d16c4686",
   "metadata": {},
   "outputs": [],
   "source": [
    "## On reprend le code du TP2 pour la simulation de mouvements brownien\n",
    "m = 10000\n",
    "T=2\n",
    "n = 1000\n",
    "dt=T/n\n",
    "R = np.random.normal(0, 1, (m, n))\n",
    "W = np.zeros((m,n+1))\n",
    "W[:,1:] =np.cumsum(R, axis=1)\n",
    "W=np.sqrt(dt)*W\n",
    "diff = W[: ,1:]-W[:,:-1]\n",
    "I_n = np.sum(W[:, :-1] * diff, axis=1) \n",
    "J_n = np.sum(W[:, 1:] * diff, axis=1) \n",
    "K_n = np.sum((W[:, :-1] + W[:, 1:]) * diff/2, axis=1)\n",
    "V_I = (W[:,-1].T)**2/2 - I_n\n",
    "V_J = (W[:,-1].T)**2/2 - J_n\n",
    "V_K = (W[:,-1].T)**2/2 - K_n"
   ]
  },
  {
   "cell_type": "markdown",
   "id": "eb73d19d",
   "metadata": {},
   "source": [
    "$(b)$ En utilisant les vecteurs précedents, on a:"
   ]
  },
  {
   "cell_type": "code",
   "execution_count": 3,
   "id": "90453bd1",
   "metadata": {},
   "outputs": [
    {
     "name": "stdout",
     "output_type": "stream",
     "text": [
      "Quantités relatives au vecteur V_I: Moyenne empirque  = 0.99964, Variance Empirique = 0.00202\n",
      "Quantités relatives au vecteur V_J: Moyenne empirque  = -0.99964, Variance Empirique = 0.00202\n",
      "Quantités relatives au vecteur V_K: Moyenne empirque  = 0.00000, Variance Empirique = 0.00000\n"
     ]
    }
   ],
   "source": [
    "print(f\"Quantités relatives au vecteur V_I: Moyenne empirque  = {np.mean(V_I):.5f}, Variance Empirique = {np.var(V_I):.5f}\")\n",
    "print(f\"Quantités relatives au vecteur V_J: Moyenne empirque  = {np.mean(V_J):.5f}, Variance Empirique = {np.var(V_J):.5f}\")\n",
    "print(f\"Quantités relatives au vecteur V_K: Moyenne empirque  = {np.mean(V_K):.5f}, Variance Empirique = {np.var(V_K):.5f}\")\n"
   ]
  },
  {
   "cell_type": "markdown",
   "id": "bc51cb52",
   "metadata": {},
   "source": [
    "Rapplons que:\n",
    "$$\\int_0^T W_s\\text{d}W_s = \\lim_{n\\to +\\infty} \\underbrace{\\sum_{k=0}^{n-1}W\\bigg(\\dfrac{T \\cdot k}{n}\\bigg)\\cdot \\bigg(W\\bigg(\\dfrac{T \\cdot (k+1)}{n}\\bigg) - W\\bigg(\\dfrac{T \\cdot k}{n}\\bigg)\\bigg)}_{=I_n} $$\n",
    "On s'attend alors à ce que:\n",
    "$$W_T^2/2 - I_N \\simeq \\dfrac{T}2 \\text{ (d'après }(a)), \\text{ ce qui est bien cohérent avec notre cas de }T=2$$\n",
    "Pour $J_n$, on remarque:\n",
    "$$J_n - I_n = \\text{QV}_n(T)\\xrightarrow[n\\to +\\infty]{}\\text{QV}(T) \\equiv [W,W]_T = T$$\n",
    "Soit, pour $N$ suffisament grand:\n",
    "$$J_N \\simeq I_N + T \\text{ soit dans notre cas }\\dfrac{W_T^2}{2} - J_N \\simeq -\\dfrac{T}{2}$$\n",
    "Ce qui est vérifié numériquement, finalement:\n",
    "$$K_n= \\dfrac{I_n+J_n}{2} = I_n + \\dfrac{J_n-I_n}{2} \\simeq_{n\\to +\\infty} \\dfrac{W_T^2}{2}- \\dfrac{T}{2}+\\dfrac{T}{2} = \\dfrac{W_T^2}{2}$$\n",
    "On a donc:\n",
    "$$\\dfrac{W_T^2}{2} - K_n\\simeq 0$$\n",
    "Tous ces résultats sont alors confirmées en simulation."
   ]
  },
  {
   "cell_type": "code",
   "execution_count": 4,
   "id": "50f730f5",
   "metadata": {
    "scrolled": false
   },
   "outputs": [
    {
     "data": {
      "image/png": "[encoded data removed]",
      "text/plain": [
       "<Figure size 1000x600 with 1 Axes>"
      ]
     },
     "metadata": {},
     "output_type": "display_data"
    }
   ],
   "source": [
    "N_s = [2**k for k in range(4,11)]\n",
    "V_I_s =[]\n",
    "IC_V_I_s=[]\n",
    "V_J_s =[]\n",
    "IC_V_J_s=[]\n",
    "V_K_s =[]\n",
    "IC_V_K_s=[]\n",
    "for n in N_s:\n",
    "    m = 10000\n",
    "    T=2\n",
    "    dt=T/n\n",
    "    R = np.random.normal(0, 1, (m, n))\n",
    "    W = np.zeros((m,n+1))\n",
    "    W[:,1:] =np.cumsum(R, axis=1)\n",
    "    W=np.sqrt(dt)*W\n",
    "    diff = W[: ,1:]-W[:,:-1]\n",
    "    I_n = np.sum(W[:, :-1] * diff, axis=1) \n",
    "    J_n = np.sum(W[:, 1:] * diff, axis=1) \n",
    "    K_n = np.sum((W[:, :-1] + W[:, 1:]) * diff/2, axis=1)\n",
    "    V_I = (W[:,-1].T)**2/2 - I_n\n",
    "    V_J = (W[:,-1].T)**2/2 - J_n\n",
    "    V_K = (W[:,-1].T)**2/2 - K_n\n",
    "    V_I_s.append(np.mean(V_I))\n",
    "    V_J_s.append(np.mean(V_J))\n",
    "    V_K_s.append(np.mean(V_K))\n",
    "    IC_V_I_s.append(1.96*np.std(V_I))\n",
    "    IC_V_J_s.append(1.96*np.std(V_J))\n",
    "    IC_V_K_s.append(1.96*np.std(V_K))\n",
    "plt.figure(figsize=(10,6))\n",
    "plt.errorbar(N_s, V_I_s, yerr = IC_V_I_s,fmt='o', capsize=5, label='$W_T^2/2-I_N$')\n",
    "plt.errorbar(N_s, V_J_s, yerr = IC_V_J_s,fmt='o', capsize=5, label='$W_T^2/2-J_N$')\n",
    "plt.errorbar(N_s, V_K_s, yerr = IC_V_K_s,fmt='o', capsize=5, label='$W_T^2/2-K_N$')\n",
    "plt.legend()\n",
    "plt.show()\n",
    "    \n",
    "    "
   ]
  },
  {
   "cell_type": "markdown",
   "id": "2a54a6fb",
   "metadata": {},
   "source": [
    "## Question 1"
   ]
  },
  {
   "cell_type": "markdown",
   "id": "a5659802",
   "metadata": {},
   "source": [
    "$(a)$ Écrivons, par formule d'Itô-Doeblin differentielle appliquée sur la fonction $x\\mapsto x^2$:\n",
    "$$\\text{d}(W_s^2)= 2W_s \\text{d}W_s + \\text{d}t$$\n",
    "Soit, sous forme intégrale:\n",
    "$$\\int_0^T W_s \\text{d}W_s = \\dfrac{1}{2}\\bigg(\\int_{0}^T \\text{d}(W_s)^2 - \\int_{0}^T \\text{d}t \\bigg)$$\n",
    "Ainsi, on s'attend à ce que:\n",
    "$$\\int_0^T W_s \\text{d}W_s = \\dfrac{W_T^2}{2}- \\dfrac{T}{2}$$"
   ]
  },
  {
   "cell_type": "code",
   "execution_count": 5,
   "id": "05233fd9",
   "metadata": {},
   "outputs": [],
   "source": [
    "## On reprend le code du TP2 pour la simulation de mouvements brownien\n",
    "m = 10000\n",
    "T=2\n",
    "n = 1000\n",
    "dt=T/n\n",
    "R = np.random.normal(0, 1, (m, n))\n",
    "W = np.zeros((m,n+1))\n",
    "W[:,1:] =np.cumsum(R, axis=1)\n",
    "W=np.sqrt(dt)*W\n",
    "diff = W[: ,1:]-W[:,:-1]\n",
    "I_n = np.sum(W[:, :-1] * diff, axis=1) \n",
    "J_n = np.sum(W[:, 1:] * diff, axis=1) \n",
    "K_n = np.sum((W[:, :-1] + W[:, 1:]) * diff/2, axis=1)\n",
    "V_I = (W[:,-1].T)**2/2 - I_n\n",
    "V_J = (W[:,-1].T)**2/2 - J_n\n",
    "V_K = (W[:,-1].T)**2/2 - K_n"
   ]
  },
  {
   "cell_type": "markdown",
   "id": "c1f5d995",
   "metadata": {},
   "source": [
    "$(b)$ En utilisant les vecteurs précedents, on a:"
   ]
  },
  {
   "cell_type": "code",
   "execution_count": 6,
   "id": "5ad95b7d",
   "metadata": {},
   "outputs": [
    {
     "name": "stdout",
     "output_type": "stream",
     "text": [
      "Quantités relatives au vecteur V_I: Moyenne empirque  = 1.00000, Variance Empirique = 0.00199\n",
      "Quantités relatives au vecteur V_J: Moyenne empirque  = -1.00000, Variance Empirique = 0.00199\n",
      "Quantités relatives au vecteur V_K: Moyenne empirque  = 0.00000, Variance Empirique = 0.00000\n"
     ]
    }
   ],
   "source": [
    "print(f\"Quantités relatives au vecteur V_I: Moyenne empirque  = {np.mean(V_I):.5f}, Variance Empirique = {np.var(V_I):.5f}\")\n",
    "print(f\"Quantités relatives au vecteur V_J: Moyenne empirque  = {np.mean(V_J):.5f}, Variance Empirique = {np.var(V_J):.5f}\")\n",
    "print(f\"Quantités relatives au vecteur V_K: Moyenne empirque  = {np.mean(V_K):.5f}, Variance Empirique = {np.var(V_K):.5f}\")\n"
   ]
  },
  {
   "cell_type": "markdown",
   "id": "0f6d20e1",
   "metadata": {},
   "source": [
    "Rappelons que:\n",
    "$$\\int_0^T W_s\\text{d}W_s = \\lim_{n\\to +\\infty} \\underbrace{\\sum_{k=0}^{n-1}W\\bigg(\\dfrac{T \\cdot k}{n}\\bigg)\\cdot \\bigg(W\\bigg(\\dfrac{T \\cdot (k+1)}{n}\\bigg) - W\\bigg(\\dfrac{T \\cdot k}{n}\\bigg)\\bigg)}_{=I_n} $$\n",
    "On s'attend alors à ce que:\n",
    "$$W_T^2/2 - I_N \\simeq \\dfrac{T}2 \\text{ (d'après }(a)), \\text{ ce qui est bien cohérent avec notre cas de }T=2$$\n",
    "Pour $J_n$, on remarque:\n",
    "$$J_n - I_n = \\text{QV}_n(T)\\xrightarrow[n\\to +\\infty]{}\\text{QV}(T) \\equiv [W,W]_T = T$$\n",
    "Soit, pour $N$ suffisament grand:\n",
    "$$J_N \\simeq I_N + T \\text{ soit dans notre cas }\\dfrac{W_T^2}{2} - J_N \\simeq -\\dfrac{T}{2}$$\n",
    "Ce qui est vérifié numériquement, finalement:\n",
    "$$K_n= \\dfrac{I_n+J_n}{2} = I_n + \\dfrac{J_n-I_n}{2} \\simeq_{n\\to +\\infty} \\dfrac{W_T^2}{2}- \\dfrac{T}{2}+\\dfrac{T}{2} = \\dfrac{W_T^2}{2}$$\n",
    "On a donc:\n",
    "$$\\dfrac{W_T^2}{2} - K_n\\simeq 0$$\n",
    "Tous ces résultats sont alors confirmées en simulation.\n",
    "\n",
    "$Remarque:$ Toutes les convergences sont faites à trajectoire (aléa $\\omega \\in \\Omega$) bien fixé. Les convergences ne sont donc pas stochastiques mais détérministes."
   ]
  },
  {
   "cell_type": "markdown",
   "id": "cbb3a500",
   "metadata": {},
   "source": [
    "## Question 2"
   ]
  },
  {
   "cell_type": "markdown",
   "id": "896c4861",
   "metadata": {},
   "source": [
    "$(a)$ Cette fois, on essaie d'approximer:\n",
    "$$\\int_{0}^T \\underbrace{e^s}_{\\text{Déterministe}}\\text{d}W_s = \\lim_{n\\to +\\infty} \\sum_{k=0}^n \\underbrace{e^{Tk/n}\\cdot \\bigg(W\\bigg(\\dfrac{T \\cdot (k+1)}{n}\\bigg) - W\\bigg(\\dfrac{T \\cdot k}{n}\\bigg)\\bigg)}_{\\sim \\mathcal{N}(0,T/n e^{2Tk/N})} \\sim \\mathcal{N}\\bigg(0, \\sum_{k=0}^N \\dfrac{T}{n}e^{2Tk/n}\\bigg)\\xrightarrow[\\mathcal{L}]{\\text{Slutsky}} \\mathcal{N}\\bigg(0,\\int_0^Te^{2s}\\text{d}s\\bigg)$$\n",
    "On s'attend alors à ce que:\n",
    "$$\\int_0^Te^s\\text{d}W_s\\sim \\mathcal{N}\\bigg(0, \\dfrac{e^{2T}-1}{2}\\bigg)$$\n",
    "Numériquement, pour $T=2$:\n",
    "$$\\dfrac{e^{2T}-1}{2}\\simeq 27$$\n"
   ]
  },
  {
   "cell_type": "code",
   "execution_count": 7,
   "id": "765fec72",
   "metadata": {},
   "outputs": [
    {
     "name": "stdout",
     "output_type": "stream",
     "text": [
      "26.799075016572118\n"
     ]
    }
   ],
   "source": [
    "m = 10000\n",
    "T=2\n",
    "print((np.exp(2*T)-1)/2)\n",
    "n = 1000\n",
    "dt=T/n\n",
    "R = np.random.normal(0, 1, (m, n))\n",
    "W = np.zeros((m,n+1))\n",
    "W[:,1:] =np.cumsum(R, axis=1)\n",
    "W=np.sqrt(dt)*W\n",
    "diff = W[: ,1:]-W[:,:-1]\n",
    "expos = np.exp(dt*np.arange(n+1))\n",
    "A_n = np.sum(expos[:-1] * diff, axis=1) \n",
    "B_n = np.sum( expos[1:]* diff, axis=1) \n",
    "C_n = np.sum((expos[:-1]+expos[1:]) * diff/2, axis=1)"
   ]
  },
  {
   "cell_type": "markdown",
   "id": "c5d38c6d",
   "metadata": {},
   "source": [
    "$(b)$ En utilisant les vecteurs précedents, on a:"
   ]
  },
  {
   "cell_type": "code",
   "execution_count": 8,
   "id": "8048d5f0",
   "metadata": {},
   "outputs": [
    {
     "name": "stdout",
     "output_type": "stream",
     "text": [
      "Quantités relatives au vecteur A: Moyenne empirque  = -0.00511, Variance Empirique = 26.82364\n",
      "Quantités relatives au vecteur B: Moyenne empirque  = -0.00512, Variance Empirique = 26.93115\n",
      "Quantités relatives au vecteur C: Moyenne empirque  = -0.00512, Variance Empirique = 26.87737\n"
     ]
    }
   ],
   "source": [
    "print(f\"Quantités relatives au vecteur A: Moyenne empirque  = {np.mean(A_n):.5f}, Variance Empirique = {np.var(A_n):.5f}\")\n",
    "print(f\"Quantités relatives au vecteur B: Moyenne empirque  = {np.mean(B_n):.5f}, Variance Empirique = {np.var(B_n):.5f}\")\n",
    "print(f\"Quantités relatives au vecteur C: Moyenne empirque  = {np.mean(C_n):.5f}, Variance Empirique = {np.var(C_n):.5f}\")\n"
   ]
  },
  {
   "cell_type": "markdown",
   "id": "76bcabdc",
   "metadata": {},
   "source": [
    "Idem, on a:\n",
    "$$A_n \\xrightarrow[n\\to +\\infty]{}\\int_0^T  e^s\\text{d}W_s$$\n",
    "Ainsi que, par inégalité des accroissements finis:\n",
    "$$|A_n - B_n | \\leq \\sum_{k=1}^n |e^{t_i^n}- e^{t_{i-1}^n}| |W_{t_i^n} -W_{t_{i-1}^n}| \\leq \\sum_{k=1}^n ||\\text{exp}||_{\\infty, [0,T]}\\cdot (t_{i}^n-t_{i-1}^n) \\cdot |W_{t_i^n} -W_{t_{i-1}^n}| = ||\\text{exp}||_{\\infty, [0,T]}\\max_{k\\in [|1,n-1|]} |W_{t_i^n} -W_{t_{i-1}^n}| \\xrightarrow[n\\to +\\infty]{}0 $$\n",
    "La dernière convergence est conséquence de la continuité de $t\\mapsto W_t$ à $\\omega\\in \\Omega$ fixé sur le $\\textbf{compact}$ $[0,T]$.\n",
    "Ainsi, on s'attend à ce que:\n",
    "$$B_n \\xrightarrow[n\\to +\\infty]{}\\int_0^T  e^s\\text{d}W_s$$\n",
    "Et finalement, $(C_n)$ converge aussi vers l'intégrale stochastique comme moyenne de $(A_n)$ et $(B_n)$ tous les deux convergeant vers $\\int e^s\\text{d}W_s$. Ainsi pour $n$ suffisament grand, les $(A_n^m) ,(B_n^m) \\text{ et }(C_n^m)$ ont même propriétés statistiques que:\n",
    "$$\\int_0^Te^s\\text{d}W_s\\sim \\mathcal{N}\\bigg(0, \\dfrac{e^{2T}-1}{2}\\bigg)$$\n",
    "Ce qui est confirmé experimentalement."
   ]
  },
  {
   "cell_type": "code",
   "execution_count": 9,
   "id": "8815ed4b",
   "metadata": {
    "scrolled": false
   },
   "outputs": [
    {
     "data": {
      "image/png": "[encoded data removed]",
      "text/plain": [
       "<Figure size 1000x600 with 1 Axes>"
      ]
     },
     "metadata": {},
     "output_type": "display_data"
    }
   ],
   "source": [
    "N_s = [2**k for k in range(4,11)]\n",
    "V_A_s =[]\n",
    "IC_V_A_s=[]\n",
    "V_B_s =[]\n",
    "IC_V_B_s=[]\n",
    "V_C_s =[]\n",
    "IC_V_C_s=[]\n",
    "for n in N_s:\n",
    "    m = 10000\n",
    "    T=2\n",
    "    n = 1000\n",
    "    dt=T/n\n",
    "    R = np.random.normal(0, 1, (m, n))\n",
    "    W = np.zeros((m,n+1))\n",
    "    W[:,1:] =np.cumsum(R, axis=1)\n",
    "    W=np.sqrt(dt)*W\n",
    "    diff = W[: ,1:]-W[:,:-1]\n",
    "    expos = np.exp(dt*np.arange(n+1))\n",
    "    A_n = np.sum(expos[:-1] * diff, axis=1) \n",
    "    B_n = np.sum( expos[1:]* diff, axis=1) \n",
    "    C_n = np.sum((expos[:-1]+expos[1:]) * diff/2, axis=1)\n",
    "    V_A_s.append(np.mean(A_n))\n",
    "    V_B_s.append(np.mean(B_n))\n",
    "    V_C_s.append(np.mean(C_n))\n",
    "    IC_V_A_s.append(1.96*np.std(A_n))\n",
    "    IC_V_B_s.append(1.96*np.std(B_n))\n",
    "    IC_V_C_s.append(1.96*np.std(C_n))\n",
    "plt.figure(figsize=(10,6))\n",
    "plt.errorbar(N_s, V_A_s, yerr = IC_V_A_s,fmt='o', capsize=5, label='$A_n$')\n",
    "plt.errorbar(N_s, V_B_s, yerr = IC_V_B_s,fmt='o', capsize=5, label='$B_n$')\n",
    "plt.errorbar(N_s, V_C_s, yerr = IC_V_C_s,fmt='o', capsize=5, label='$C_n$')\n",
    "plt.legend()\n",
    "plt.show()\n",
    "    \n",
    "    "
   ]
  },
  {
   "cell_type": "markdown",
   "id": "8a08b656",
   "metadata": {},
   "source": [
    "## Question 3"
   ]
  },
  {
   "cell_type": "markdown",
   "id": "2a5a92fd",
   "metadata": {},
   "source": [
    "$(a)$ On modifie les calculs des deux questions précedentes:"
   ]
  },
  {
   "cell_type": "code",
   "execution_count": 10,
   "id": "2a1e2140",
   "metadata": {
    "scrolled": false
   },
   "outputs": [
    {
     "name": "stdout",
     "output_type": "stream",
     "text": [
      "0.7875393003605885\n",
      "0.7966676028357664\n",
      "0.8079660901381538\n",
      "0.7935830408733957\n",
      "0.8113433807916137\n",
      "0.8071911653983952\n",
      "0.8149782329127384\n"
     ]
    },
    {
     "data": {
      "image/png": "[encoded data removed]",
      "text/plain": [
       "<Figure size 640x480 with 1 Axes>"
      ]
     },
     "metadata": {},
     "output_type": "display_data"
    }
   ],
   "source": [
    "N_s = [2**k for k in range(4,11)]\n",
    "S_n = []\n",
    "IC_S_n=[]\n",
    "for n in N_s:\n",
    "    m = 10000\n",
    "    T=2\n",
    "    dt=T/n\n",
    "    R = np.random.normal(0, 1, (m, n))\n",
    "    W = np.zeros((m,n+1))\n",
    "    W[:,1:] =np.cumsum(R, axis=1)\n",
    "    W=np.sqrt(dt)*W\n",
    "    sins = np.sin(W[:,:-1])\n",
    "    curr_S = np.sum(sins,axis=1)/(2*n)+ np.sin(W[:,-1])\n",
    "    print(np.var(curr_S))\n",
    "    S_n.append(np.mean(curr_S))\n",
    "    IC_S_n.append(1.96*np.std(curr_S))\n",
    "plt.errorbar(N_s, S_n, yerr = IC_S_n,fmt='o', capsize=5, label='$S_n$')\n",
    "plt.plot(N_s, S_n)\n",
    "plt.legend()\n",
    "plt.show()"
   ]
  },
  {
   "cell_type": "markdown",
   "id": "f7a553b5",
   "metadata": {},
   "source": [
    "$(b)$ Le graph de la question $(a)$ ressemble à celui de $\\textbf{2.}c$, on peut alors conjecturer que:\n",
    "$$ S_n \\sim\\mathcal{N}(0,V) \\text{ avec }V\\simeq 0.8$$\n",
    "En effet par régularité de $(W_t)_{t\\leq T}$ à trajectoire fixée (issue $\\omega\\in \\Omega$ fixé), $(\\sin(W_t))$ aussi et donc intégrable au sens de Riemann avec:\n",
    "$$\\lim_{n\\to +\\infty}S_n = \\sin(W_T) +\\dfrac{1}{2}\\int_0^T\\sin(W_t) \\text{d}t$$\n",
    "En esperance, en utilisant le fait que $\\sin$ est fonction impaire, que pour $t\\leq T$, $W_t\\sim \\mathcal{N}(0,t)$ et théorème de Fubini, on obtient:\n",
    "$$\\textbf{E}\\bigg(\\lim_{n\\to +\\infty}S_n  \\bigg) = 0$$\n",
    "La variance s'obtient par le calcul de $\\textbf{E}((\\lim_{n\\to +\\infty}S_n)^2)\\simeq 0.71\\cdots$ \n",
    "\n",
    "On peut montrer que $S_n - \\sin(W_T)\\xrightarrow[n\\to +\\infty]{L^2} 0$, donc $S_n$ se comporte comme le sinus d'une variable normale, elle n'est donc pas normale elle même."
   ]
  }
 ],
 "metadata": {
  "kernelspec": {
   "display_name": "Python 3 (ipykernel)",
   "language": "python",
   "name": "python3"
  },
  "language_info": {
   "codemirror_mode": {
    "name": "ipython",
    "version": 3
   },
   "file_extension": ".py",
   "mimetype": "text/x-python",
   "name": "python",
   "nbconvert_exporter": "python",
   "pygments_lexer": "ipython3",
   "version": "3.11.5"
  }
 },
 "nbformat": 4,
 "nbformat_minor": 5
}
